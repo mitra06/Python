{
 "cells": [
  {
   "cell_type": "code",
   "execution_count": 1,
   "id": "ea74a033",
   "metadata": {},
   "outputs": [],
   "source": [
    "import datetime"
   ]
  },
  {
   "cell_type": "code",
   "execution_count": 2,
   "id": "548ee5ac",
   "metadata": {},
   "outputs": [
    {
     "data": {
      "text/plain": [
       "datetime.datetime(2022, 4, 10, 10, 31, 20, 14835)"
      ]
     },
     "execution_count": 2,
     "metadata": {},
     "output_type": "execute_result"
    }
   ],
   "source": [
    "datetime_now = datetime.datetime.now()\n",
    "datetime_now"
   ]
  },
  {
   "cell_type": "code",
   "execution_count": 6,
   "id": "e0cdc2fe",
   "metadata": {},
   "outputs": [
    {
     "data": {
      "text/plain": [
       "datetime.date(2022, 4, 10)"
      ]
     },
     "execution_count": 6,
     "metadata": {},
     "output_type": "execute_result"
    }
   ],
   "source": [
    "current_date = datetime.date.today()\n",
    "current_date"
   ]
  },
  {
   "cell_type": "code",
   "execution_count": 7,
   "id": "4a791910",
   "metadata": {},
   "outputs": [
    {
     "name": "stdout",
     "output_type": "stream",
     "text": [
      "['MAXYEAR', 'MINYEAR', '__all__', '__builtins__', '__cached__', '__doc__', '__file__', '__loader__', '__name__', '__package__', '__spec__', 'date', 'datetime', 'datetime_CAPI', 'sys', 'time', 'timedelta', 'timezone', 'tzinfo']\n"
     ]
    }
   ],
   "source": [
    "print(dir(datetime))"
   ]
  },
  {
   "cell_type": "code",
   "execution_count": 9,
   "id": "aa1e250f",
   "metadata": {},
   "outputs": [
    {
     "name": "stdout",
     "output_type": "stream",
     "text": [
      "Day --> 10\n",
      "Month --> 4\n",
      "Year --> 2022\n"
     ]
    }
   ],
   "source": [
    "current_date = datetime.date.today()\n",
    "day = current_date.day\n",
    "print(\"Day -->\", day)\n",
    "month = current_date.month\n",
    "print(\"Month -->\", month)\n",
    "year = current_date.year\n",
    "print(\"Year -->\", year)"
   ]
  },
  {
   "cell_type": "code",
   "execution_count": 25,
   "id": "22346236",
   "metadata": {},
   "outputs": [],
   "source": [
    "from datetime import time\n",
    "from datetime import datetime"
   ]
  },
  {
   "cell_type": "code",
   "execution_count": 16,
   "id": "f25b9daa",
   "metadata": {},
   "outputs": [
    {
     "data": {
      "text/plain": [
       "datetime.time(10, 24, 20, 11)"
      ]
     },
     "execution_count": 16,
     "metadata": {},
     "output_type": "execute_result"
    }
   ],
   "source": [
    "time_val = time(10,24,20,11)\n",
    "time_val"
   ]
  },
  {
   "cell_type": "code",
   "execution_count": 17,
   "id": "6535a1a5",
   "metadata": {},
   "outputs": [
    {
     "name": "stdout",
     "output_type": "stream",
     "text": [
      "hour 10\n"
     ]
    }
   ],
   "source": [
    "print(\"hour\", time_val.hour)"
   ]
  },
  {
   "cell_type": "code",
   "execution_count": 18,
   "id": "ca432b1d",
   "metadata": {},
   "outputs": [
    {
     "name": "stdout",
     "output_type": "stream",
     "text": [
      "Minute 24\n"
     ]
    }
   ],
   "source": [
    "print(\"Minute\", time_val.minute)"
   ]
  },
  {
   "cell_type": "code",
   "execution_count": 19,
   "id": "0cbb3ca7",
   "metadata": {},
   "outputs": [
    {
     "name": "stdout",
     "output_type": "stream",
     "text": [
      "Second 20\n"
     ]
    }
   ],
   "source": [
    "print(\"Second\", time_val.second)"
   ]
  },
  {
   "cell_type": "code",
   "execution_count": 20,
   "id": "90ae751b",
   "metadata": {},
   "outputs": [
    {
     "name": "stdout",
     "output_type": "stream",
     "text": [
      "Microsecond 11\n"
     ]
    }
   ],
   "source": [
    "print(\"Microsecond\", time_val.microsecond)"
   ]
  },
  {
   "cell_type": "code",
   "execution_count": 27,
   "id": "31d4af16",
   "metadata": {},
   "outputs": [
    {
     "data": {
      "text/plain": [
       "datetime.datetime(2022, 10, 20, 21, 40, 11, 100)"
      ]
     },
     "execution_count": 27,
     "metadata": {},
     "output_type": "execute_result"
    }
   ],
   "source": [
    "date_time =  datetime(2022, 10, 20, 21, 40, 11, 100)\n",
    "date_time"
   ]
  },
  {
   "cell_type": "code",
   "execution_count": 30,
   "id": "75bf5d86",
   "metadata": {},
   "outputs": [
    {
     "data": {
      "text/plain": [
       "(2022, 10, 20, 21, 40, 11, 100)"
      ]
     },
     "execution_count": 30,
     "metadata": {},
     "output_type": "execute_result"
    }
   ],
   "source": [
    "date_time.year, date_time.month, date_time.day, date_time.hour, date_time.minute, date_time.second, date_time.microsecond"
   ]
  },
  {
   "cell_type": "code",
   "execution_count": 31,
   "id": "40426126",
   "metadata": {},
   "outputs": [
    {
     "data": {
      "text/plain": [
       "datetime.timedelta(days=-16)"
      ]
     },
     "execution_count": 31,
     "metadata": {},
     "output_type": "execute_result"
    }
   ],
   "source": [
    "# timedelta\n",
    "\n",
    "from datetime import timedelta\n",
    "t1 = timedelta(weeks = 3, days = 4, hours = 1)\n",
    "t2 = timedelta(weeks = 1, days = 2, hours = 1)\n",
    "t3 = t2 - t1\n",
    "t3"
   ]
  },
  {
   "cell_type": "code",
   "execution_count": 33,
   "id": "01a817d8",
   "metadata": {},
   "outputs": [
    {
     "data": {
      "text/plain": [
       "86400.0"
      ]
     },
     "execution_count": 33,
     "metadata": {},
     "output_type": "execute_result"
    }
   ],
   "source": [
    "t = timedelta(days = 1)\n",
    "t.total_seconds()"
   ]
  },
  {
   "cell_type": "code",
   "execution_count": 34,
   "id": "6e7c7921",
   "metadata": {},
   "outputs": [],
   "source": [
    "from datetime import datetime\n",
    "import pytz"
   ]
  },
  {
   "cell_type": "code",
   "execution_count": 35,
   "id": "b6907b66",
   "metadata": {},
   "outputs": [
    {
     "data": {
      "text/plain": [
       "datetime.datetime(2022, 4, 10, 10, 54, 6, 926422)"
      ]
     },
     "execution_count": 35,
     "metadata": {},
     "output_type": "execute_result"
    }
   ],
   "source": [
    "local = datetime.now()\n",
    "local"
   ]
  },
  {
   "cell_type": "code",
   "execution_count": 39,
   "id": "cf45671f",
   "metadata": {},
   "outputs": [
    {
     "data": {
      "text/plain": [
       "datetime.datetime(2022, 4, 10, 1, 28, 0, 625527, tzinfo=<DstTzInfo 'America/New_York' EDT-1 day, 20:00:00 DST>)"
      ]
     },
     "execution_count": 39,
     "metadata": {},
     "output_type": "execute_result"
    }
   ],
   "source": [
    "tz_Nz = pytz.timezone('America/New_York')\n",
    "ny_time = datetime.now(tz_Nz)\n",
    "ny_time"
   ]
  },
  {
   "cell_type": "code",
   "execution_count": 40,
   "id": "0162226b",
   "metadata": {},
   "outputs": [
    {
     "name": "stdout",
     "output_type": "stream",
     "text": [
      "NY: 04,10,2022,01,28,00\n"
     ]
    }
   ],
   "source": [
    "print(\"NY:\", ny_time.strftime(\"%m,%d,%Y,%H,%M,%S\"))"
   ]
  },
  {
   "cell_type": "code",
   "execution_count": 42,
   "id": "f848cadc",
   "metadata": {},
   "outputs": [
    {
     "name": "stdout",
     "output_type": "stream",
     "text": [
      "London: 04,10,2022,06,29,03\n"
     ]
    }
   ],
   "source": [
    "tz_lon = pytz.timezone('Europe/London')\n",
    "lon_time = datetime.now(tz_lon)\n",
    "print(\"London:\", lon_time.strftime(\"%m,%d,%Y,%H,%M,%S\"))"
   ]
  },
  {
   "cell_type": "code",
   "execution_count": null,
   "id": "db92845e",
   "metadata": {},
   "outputs": [],
   "source": []
  }
 ],
 "metadata": {
  "kernelspec": {
   "display_name": "Python 3 (ipykernel)",
   "language": "python",
   "name": "python3"
  },
  "language_info": {
   "codemirror_mode": {
    "name": "ipython",
    "version": 3
   },
   "file_extension": ".py",
   "mimetype": "text/x-python",
   "name": "python",
   "nbconvert_exporter": "python",
   "pygments_lexer": "ipython3",
   "version": "3.9.7"
  }
 },
 "nbformat": 4,
 "nbformat_minor": 5
}
