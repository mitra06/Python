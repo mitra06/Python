{
 "cells": [
  {
   "cell_type": "code",
   "execution_count": null,
   "metadata": {},
   "outputs": [],
   "source": [
    "if some_condition:\n",
    "    \"\"\"\n",
    "    statement 1\n",
    "    statement 2\n",
    "    \n",
    "    \"\"\"\n",
    "else:\n",
    "    \"\"\"\n",
    "    statement 1\n",
    "    statement 2\n",
    "    \n",
    "    \"\"\"\n",
    "    "
   ]
  },
  {
   "cell_type": "code",
   "execution_count": null,
   "metadata": {},
   "outputs": [],
   "source": [
    "x=int(input(\"enter value\"))\n",
    "if x>100:\n",
    "    print(\"Very old\")\n",
    "elif x>50 and x<=100:\n",
    "    print(\"Old\")\n",
    "else:\n",
    "    print(\"Young\")"
   ]
  },
  {
   "cell_type": "code",
   "execution_count": 18,
   "metadata": {},
   "outputs": [
    {
     "name": "stdout",
     "output_type": "stream",
     "text": [
      "enter student percenatage99.8\n",
      "Grade-A+\n"
     ]
    }
   ],
   "source": [
    "percent=float(input(\"enter student percenatage\"))\n",
    "if percent<30:\n",
    "    print(\"Fail\")\n",
    "elif percent>-30 and percent<=50:\n",
    "    print(\"Grade-C\")\n",
    "elif percent>50 and percent<=70:\n",
    "    print(\"Grade-B\")\n",
    "elif percent>70 and percent<90:\n",
    "    print(\"Grade-A\")\n",
    "elif percent>90 and percent<=100:\n",
    "    print(\"Grade-A+\")\n",
    "else:\n",
    "    print(\"Please give right value!\")"
   ]
  },
  {
   "cell_type": "code",
   "execution_count": null,
   "metadata": {},
   "outputs": [],
   "source": []
  }
 ],
 "metadata": {
  "kernelspec": {
   "display_name": "Python 3",
   "language": "python",
   "name": "python3"
  },
  "language_info": {
   "codemirror_mode": {
    "name": "ipython",
    "version": 3
   },
   "file_extension": ".py",
   "mimetype": "text/x-python",
   "name": "python",
   "nbconvert_exporter": "python",
   "pygments_lexer": "ipython3",
   "version": "3.8.3"
  }
 },
 "nbformat": 4,
 "nbformat_minor": 4
}
