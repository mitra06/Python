{
 "cells": [
  {
   "cell_type": "markdown",
   "id": "d93e8e21",
   "metadata": {},
   "source": [
    "### Exception\n",
    "> Exception are raised when program is syntaxtically correct but code gives an error, and this error doesn't stop the program execution but changes the flow.\n",
    "\n",
    "    Few Examples of exceptions are\n",
    "    1. Zero division error\n",
    "    2. Airthmetic error\n",
    "    3. Overflow error\n",
    "    4. Floating point error\n",
    "    5. Assertion error\n",
    "    6. Import error\n",
    "\n",
    "\n",
    "### How do we handle the exception?\n",
    " \n",
    "In Python we generally handle exception by using try, except, finally\n",
    "\n",
    "In Python exception can handle using `try` statement, the critical operation which raise and exception we place this inside `try` clause and the code which handle that above exception written in `except` clause \n",
    "\n",
    "> A try block have many of except block\n",
    "        \n",
    "        try:\n",
    "            pass\n",
    "        except TypeError:\n",
    "            pass\n",
    "        except (ValueError, ZeroDivisionError):\n",
    "            pass\n",
    "        except:\n",
    "            pass\n",
    "            \n",
    "### try except and else\n",
    "\n",
    "> In Python we can also use else clause on the try and except block and it must be present after except block, code will execute else block when try block doesn't raise the exception\n",
    "\n",
    "        try:\n",
    "            #statment\n",
    "        except:\n",
    "            #statement\n",
    "        else:\n",
    "            #statement\n",
    "            \n",
    " ### try except and finally\n",
    " \n",
    " > Python provides finally keyword which always exceute after try and except\n",
    "         \n",
    "         try:\n",
    "             #statement\n",
    "             # code\n",
    "         except:\n",
    "             #statement\n",
    "             #optional block, exception handling, if try throw some type of exception\n",
    "         else:\n",
    "             #statement\n",
    "             # It execute only after successful exceution of `try` block or other word it execute if ther is no exception\n",
    "         finally:\n",
    "             #statement\n",
    "             # always executed"
   ]
  },
  {
   "cell_type": "code",
   "execution_count": 3,
   "id": "352dc1d3",
   "metadata": {},
   "outputs": [
    {
     "ename": "ZeroDivisionError",
     "evalue": "division by zero",
     "output_type": "error",
     "traceback": [
      "\u001b[1;31m---------------------------------------------------------------------------\u001b[0m",
      "\u001b[1;31mZeroDivisionError\u001b[0m                         Traceback (most recent call last)",
      "\u001b[1;32m~\\AppData\\Local\\Temp/ipykernel_12072/2260989641.py\u001b[0m in \u001b[0;36m<module>\u001b[1;34m\u001b[0m\n\u001b[0;32m      3\u001b[0m \u001b[0mnum\u001b[0m \u001b[1;33m=\u001b[0m \u001b[1;36m100\u001b[0m\u001b[1;33m\u001b[0m\u001b[1;33m\u001b[0m\u001b[0m\n\u001b[0;32m      4\u001b[0m \u001b[1;33m\u001b[0m\u001b[0m\n\u001b[1;32m----> 5\u001b[1;33m \u001b[0mnum_div\u001b[0m \u001b[1;33m=\u001b[0m \u001b[0mnum\u001b[0m \u001b[1;33m/\u001b[0m \u001b[1;36m0\u001b[0m\u001b[1;33m\u001b[0m\u001b[1;33m\u001b[0m\u001b[0m\n\u001b[0m\u001b[0;32m      6\u001b[0m \u001b[0mprint\u001b[0m\u001b[1;33m(\u001b[0m\u001b[0mnum_div\u001b[0m\u001b[1;33m)\u001b[0m\u001b[1;33m\u001b[0m\u001b[1;33m\u001b[0m\u001b[0m\n",
      "\u001b[1;31mZeroDivisionError\u001b[0m: division by zero"
     ]
    }
   ],
   "source": [
    "# python program for divisible by zero and see the exception type\n",
    "\n",
    "num = 100\n",
    "\n",
    "num_div = num / 0\n",
    "print(num_div)"
   ]
  },
  {
   "cell_type": "code",
   "execution_count": 2,
   "id": "bef35e2f",
   "metadata": {},
   "outputs": [
    {
     "ename": "SyntaxError",
     "evalue": "invalid syntax (Temp/ipykernel_12072/2480503148.py, line 5)",
     "output_type": "error",
     "traceback": [
      "\u001b[1;36m  File \u001b[1;32m\"C:\\Users\\LENOVO\\AppData\\Local\\Temp/ipykernel_12072/2480503148.py\"\u001b[1;36m, line \u001b[1;32m5\u001b[0m\n\u001b[1;33m    if num > 100\u001b[0m\n\u001b[1;37m                ^\u001b[0m\n\u001b[1;31mSyntaxError\u001b[0m\u001b[1;31m:\u001b[0m invalid syntax\n"
     ]
    }
   ],
   "source": [
    "#python program to see the error\n",
    "\n",
    "num = 100\n",
    "\n",
    "if num > 100\n",
    "print(\"Number is greate than 100\")"
   ]
  },
  {
   "cell_type": "code",
   "execution_count": 4,
   "id": "23a8132d",
   "metadata": {},
   "outputs": [
    {
     "name": "stdout",
     "output_type": "stream",
     "text": [
      "Number can not be divide by zero\n"
     ]
    }
   ],
   "source": [
    "# python program for divisible by zero and see the exception type\n",
    "\n",
    "num = 100\n",
    "\n",
    "try:\n",
    "    num_div = num / 0\n",
    "    print(num_div)\n",
    "except:\n",
    "    print(\"Number can not be divide by zero\")"
   ]
  },
  {
   "cell_type": "code",
   "execution_count": 5,
   "id": "d8eba87b",
   "metadata": {},
   "outputs": [
    {
     "name": "stdout",
     "output_type": "stream",
     "text": [
      "Number is greate than 100\n"
     ]
    }
   ],
   "source": [
    "#python program to see the error\n",
    "\n",
    "num = 100\n",
    "\n",
    "try:\n",
    "    if num >= 100:\n",
    "        print(\"Number is greate than 100\")\n",
    "except:\n",
    "    print(\"Number is less than zero\")"
   ]
  },
  {
   "cell_type": "code",
   "execution_count": 8,
   "id": "b2ba5471",
   "metadata": {},
   "outputs": [
    {
     "name": "stdout",
     "output_type": "stream",
     "text": [
      "enter number99\n",
      "This is less than and equal 100\n"
     ]
    }
   ],
   "source": [
    "# Python program to raising exception\n",
    "\n",
    "num = int(input(\"enter number\"))\n",
    "\n",
    "try:\n",
    "    if num <= 100:\n",
    "        raise ValueError(\"This is less than and equal 100\")\n",
    "except ValueError as ve:\n",
    "    print(ve)"
   ]
  },
  {
   "cell_type": "code",
   "execution_count": 25,
   "id": "2d40b9ef",
   "metadata": {},
   "outputs": [
    {
     "name": "stdout",
     "output_type": "stream",
     "text": [
      "enter number11\n",
      "Not an even number\n"
     ]
    }
   ],
   "source": [
    "# Python program to try with else clause\n",
    "\n",
    "try:\n",
    "    num = int(input(\"enter number\"))\n",
    "    assert num % 2 == 0\n",
    "except:\n",
    "    print(\"Not an even number\")\n",
    "else:\n",
    "    print(\"Enter in Else Block\")\n",
    "    print(num)"
   ]
  },
  {
   "cell_type": "code",
   "execution_count": 29,
   "id": "46727bfb",
   "metadata": {},
   "outputs": [
    {
     "name": "stdout",
     "output_type": "stream",
     "text": [
      "Entered in except block\n",
      "Number can not be divide by zero\n",
      "entered in finally block\n",
      "100\n"
     ]
    }
   ],
   "source": [
    "# python program to try except and finally\n",
    "\n",
    "num = 100\n",
    "\n",
    "try:\n",
    "    num_div = num / 0\n",
    "    print(\"Entered in try block\")\n",
    "    print(num_div)\n",
    "except:\n",
    "    print(\"Entered in except block\")\n",
    "    print(\"Number can not be divide by zero\")\n",
    "finally:\n",
    "    print(\"entered in finally block\")\n",
    "    print(num)"
   ]
  },
  {
   "cell_type": "code",
   "execution_count": 33,
   "id": "adfa3832",
   "metadata": {},
   "outputs": [],
   "source": [
    "#define userdefined exception\n",
    "class Small_value_Exception(Exception):\n",
    "    pass"
   ]
  },
  {
   "cell_type": "code",
   "execution_count": 34,
   "id": "697feb90",
   "metadata": {},
   "outputs": [
    {
     "name": "stdout",
     "output_type": "stream",
     "text": [
      "enter number99\n",
      "Value is smaller\n"
     ]
    }
   ],
   "source": [
    "num_1 = 100\n",
    "\n",
    "\n",
    "try:\n",
    "    num_2 = int(input(\"enter number\"))\n",
    "    if num_2 < num_1:\n",
    "        raise Small_value_Exception\n",
    "except Small_value_Exception:\n",
    "    print(\"Value is smaller\")"
   ]
  },
  {
   "cell_type": "code",
   "execution_count": null,
   "id": "f44a53e1",
   "metadata": {},
   "outputs": [],
   "source": []
  }
 ],
 "metadata": {
  "kernelspec": {
   "display_name": "Python 3 (ipykernel)",
   "language": "python",
   "name": "python3"
  },
  "language_info": {
   "codemirror_mode": {
    "name": "ipython",
    "version": 3
   },
   "file_extension": ".py",
   "mimetype": "text/x-python",
   "name": "python",
   "nbconvert_exporter": "python",
   "pygments_lexer": "ipython3",
   "version": "3.9.7"
  }
 },
 "nbformat": 4,
 "nbformat_minor": 5
}
