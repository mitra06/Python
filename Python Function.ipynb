{
 "cells": [
  {
   "cell_type": "markdown",
   "id": "91fb42a0",
   "metadata": {},
   "source": [
    "        def function_name(argument_1, argument_2):\n",
    "            #\n",
    "            # statement\n",
    "            return result"
   ]
  },
  {
   "cell_type": "code",
   "execution_count": null,
   "id": "fc60aaac",
   "metadata": {},
   "outputs": [],
   "source": [
    "def add_num_1(num_1,num_2):\n",
    "    add = num_1 + num_2\n",
    "    gcc\n",
    "    cv\n",
    "    cxv\n",
    "    cx\n",
    "    cxvv\n",
    "    xc\n",
    "    v\n",
    "    cx\n",
    "    vcx\n",
    "    v\n",
    "    cxv\n",
    "    c\n",
    "    vcx\n",
    "    v\n",
    "    cx\n",
    "    vc\n",
    "    xv\n",
    "    cx\n",
    "    v\n",
    "    \n",
    "    return add"
   ]
  },
  {
   "cell_type": "code",
   "execution_count": 7,
   "id": "639bee24",
   "metadata": {},
   "outputs": [],
   "source": [
    "def add_num(num_1,num_2):\n",
    "    \"\"\"\n",
    "        Function for adding two number\n",
    "        passing num_1 and num_2 as parameters of the function\n",
    "        derfined new variable add which store the addition value of num_1 and num_2\n",
    "        and return of this function is add\n",
    "    \"\"\"\n",
    "    add = num_1 + num_2\n",
    "    return add"
   ]
  },
  {
   "cell_type": "code",
   "execution_count": 8,
   "id": "93ef0942",
   "metadata": {},
   "outputs": [
    {
     "data": {
      "text/plain": [
       "19"
      ]
     },
     "execution_count": 8,
     "metadata": {},
     "output_type": "execute_result"
    }
   ],
   "source": [
    "var_1 = 9\n",
    "var_2 = 10\n",
    "\n",
    "add_num(var_1, var_2)"
   ]
  },
  {
   "cell_type": "code",
   "execution_count": 11,
   "id": "2c2d6022",
   "metadata": {},
   "outputs": [
    {
     "data": {
      "text/plain": [
       "19"
      ]
     },
     "execution_count": 11,
     "metadata": {},
     "output_type": "execute_result"
    }
   ],
   "source": [
    "add_num(9,10)"
   ]
  },
  {
   "cell_type": "code",
   "execution_count": null,
   "id": "43182903",
   "metadata": {},
   "outputs": [],
   "source": []
  },
  {
   "cell_type": "code",
   "execution_count": 9,
   "id": "2b23c047",
   "metadata": {},
   "outputs": [
    {
     "data": {
      "text/plain": [
       "39"
      ]
     },
     "execution_count": 9,
     "metadata": {},
     "output_type": "execute_result"
    }
   ],
   "source": [
    "var_3 = 19\n",
    "var_4 = 20\n",
    "\n",
    "add_num(var_3, var_4)"
   ]
  },
  {
   "cell_type": "code",
   "execution_count": 10,
   "id": "679654ac",
   "metadata": {},
   "outputs": [
    {
     "data": {
      "text/plain": [
       "200"
      ]
     },
     "execution_count": 10,
     "metadata": {},
     "output_type": "execute_result"
    }
   ],
   "source": [
    "var_5 = 90\n",
    "var_6 = 110\n",
    "\n",
    "add_num(var_5, var_6)"
   ]
  },
  {
   "cell_type": "code",
   "execution_count": null,
   "id": "412e1a88",
   "metadata": {},
   "outputs": [],
   "source": []
  },
  {
   "cell_type": "markdown",
   "id": "0c4ed5be",
   "metadata": {},
   "source": [
    "project_dir\n",
    "    scripts\n",
    "        utils\n",
    "            functions.py          \n",
    "            pyfilename1.py\n",
    "        main.py ---> main class function used for trigger the code base\n",
    "        config\n",
    "            config_ex.py\n",
    "    requirement.txt\n",
    "\n"
   ]
  },
  {
   "cell_type": "code",
   "execution_count": null,
   "id": "3179d33f",
   "metadata": {},
   "outputs": [],
   "source": [
    "function.py\n",
    "\n",
    "def some_business_logic_1():\n",
    "                    #expression\n",
    "\n",
    "def some_business_logic_2():\n",
    "                    #expression\n",
    "\n",
    "def some_business_logic_3():\n",
    "                    #expression\n"
   ]
  },
  {
   "cell_type": "code",
   "execution_count": 27,
   "id": "debd8025",
   "metadata": {},
   "outputs": [],
   "source": [
    "name = \"Mitra\"\n",
    "def add():\n",
    "    print(name)"
   ]
  },
  {
   "cell_type": "code",
   "execution_count": 28,
   "id": "de5a0535",
   "metadata": {},
   "outputs": [
    {
     "name": "stdout",
     "output_type": "stream",
     "text": [
      "Mitra\n"
     ]
    }
   ],
   "source": [
    "add()"
   ]
  },
  {
   "cell_type": "code",
   "execution_count": 26,
   "id": "ed9991f8",
   "metadata": {},
   "outputs": [
    {
     "data": {
      "text/plain": [
       "'Mitra'"
      ]
     },
     "execution_count": 26,
     "metadata": {},
     "output_type": "execute_result"
    }
   ],
   "source": [
    "name"
   ]
  },
  {
   "cell_type": "code",
   "execution_count": null,
   "id": "8235a0aa",
   "metadata": {},
   "outputs": [],
   "source": [
    "# GLobal variable are those which are not defined inside a function and has global scope\n",
    "# Local variable are those which are  defined inside a function has it's scope limited to that function only"
   ]
  },
  {
   "cell_type": "code",
   "execution_count": 34,
   "id": "ba33fc42",
   "metadata": {},
   "outputs": [],
   "source": [
    "#Python default argument\n",
    "\n",
    "\n",
    "def add1(x=1, y=1):\n",
    "    add = x+y\n",
    "    return add"
   ]
  },
  {
   "cell_type": "code",
   "execution_count": 55,
   "id": "5056fd67",
   "metadata": {},
   "outputs": [],
   "source": [
    "def add(x,y):\n",
    "    add = x+y\n",
    "    return add"
   ]
  },
  {
   "cell_type": "code",
   "execution_count": null,
   "id": "1ec69c1c",
   "metadata": {},
   "outputs": [],
   "source": []
  },
  {
   "cell_type": "code",
   "execution_count": 57,
   "id": "f921aa66",
   "metadata": {},
   "outputs": [
    {
     "ename": "TypeError",
     "evalue": "add() takes 2 positional arguments but 3 were given",
     "output_type": "error",
     "traceback": [
      "\u001b[1;31m---------------------------------------------------------------------------\u001b[0m",
      "\u001b[1;31mTypeError\u001b[0m                                 Traceback (most recent call last)",
      "\u001b[1;32m~\\AppData\\Local\\Temp/ipykernel_6500/1651077179.py\u001b[0m in \u001b[0;36m<module>\u001b[1;34m\u001b[0m\n\u001b[0;32m      2\u001b[0m \u001b[0my\u001b[0m\u001b[1;33m=\u001b[0m\u001b[1;36m2\u001b[0m\u001b[1;33m\u001b[0m\u001b[1;33m\u001b[0m\u001b[0m\n\u001b[0;32m      3\u001b[0m \u001b[0mz\u001b[0m\u001b[1;33m=\u001b[0m\u001b[1;36m3\u001b[0m\u001b[1;33m\u001b[0m\u001b[1;33m\u001b[0m\u001b[0m\n\u001b[1;32m----> 4\u001b[1;33m \u001b[0madd\u001b[0m\u001b[1;33m(\u001b[0m\u001b[0mx\u001b[0m\u001b[1;33m,\u001b[0m\u001b[0my\u001b[0m\u001b[1;33m,\u001b[0m\u001b[0mz\u001b[0m\u001b[1;33m)\u001b[0m\u001b[1;33m\u001b[0m\u001b[1;33m\u001b[0m\u001b[0m\n\u001b[0m",
      "\u001b[1;31mTypeError\u001b[0m: add() takes 2 positional arguments but 3 were given"
     ]
    }
   ],
   "source": [
    "x=1\n",
    "y=2\n",
    "z=3\n",
    "add(x,y,z)"
   ]
  },
  {
   "cell_type": "code",
   "execution_count": 53,
   "id": "82edb18e",
   "metadata": {},
   "outputs": [
    {
     "ename": "TypeError",
     "evalue": "add1() takes from 0 to 2 positional arguments but 3 were given",
     "output_type": "error",
     "traceback": [
      "\u001b[1;31m---------------------------------------------------------------------------\u001b[0m",
      "\u001b[1;31mTypeError\u001b[0m                                 Traceback (most recent call last)",
      "\u001b[1;32m~\\AppData\\Local\\Temp/ipykernel_6500/1818146092.py\u001b[0m in \u001b[0;36m<module>\u001b[1;34m\u001b[0m\n\u001b[1;32m----> 1\u001b[1;33m \u001b[0madd1\u001b[0m\u001b[1;33m(\u001b[0m\u001b[1;36m10\u001b[0m\u001b[1;33m,\u001b[0m\u001b[1;36m6\u001b[0m\u001b[1;33m,\u001b[0m\u001b[1;36m12\u001b[0m\u001b[1;33m)\u001b[0m\u001b[1;33m\u001b[0m\u001b[1;33m\u001b[0m\u001b[0m\n\u001b[0m",
      "\u001b[1;31mTypeError\u001b[0m: add1() takes from 0 to 2 positional arguments but 3 were given"
     ]
    }
   ],
   "source": [
    "add1(10,6)"
   ]
  },
  {
   "cell_type": "code",
   "execution_count": 49,
   "id": "7d84e537",
   "metadata": {},
   "outputs": [],
   "source": [
    "#variable length argument\n",
    "#*args(non keyword)\n",
    "#**kwargs (keyword)"
   ]
  },
  {
   "cell_type": "code",
   "execution_count": 69,
   "id": "a2fc0cba",
   "metadata": {},
   "outputs": [],
   "source": [
    "def myFun_1(*args):\n",
    "    for i in args:\n",
    "        print(i)"
   ]
  },
  {
   "cell_type": "code",
   "execution_count": 70,
   "id": "5680eb05",
   "metadata": {},
   "outputs": [
    {
     "name": "stdout",
     "output_type": "stream",
     "text": [
      "1\n",
      "1\n"
     ]
    }
   ],
   "source": [
    "myFun_1(\"1\",\"1\")"
   ]
  },
  {
   "cell_type": "code",
   "execution_count": 65,
   "id": "24032d8d",
   "metadata": {},
   "outputs": [],
   "source": [
    "def myFun(**args):\n",
    "    for key,value in args.items():\n",
    "        print(key,value)"
   ]
  },
  {
   "cell_type": "code",
   "execution_count": 68,
   "id": "36f752ae",
   "metadata": {},
   "outputs": [
    {
     "name": "stdout",
     "output_type": "stream",
     "text": [
      "a hello\n",
      "b Hi\n",
      "c 10\n"
     ]
    }
   ],
   "source": [
    "myFun(a=\"hello\",b=\"Hi\",c=10)"
   ]
  },
  {
   "cell_type": "code",
   "execution_count": 71,
   "id": "123f621a",
   "metadata": {},
   "outputs": [
    {
     "name": "stdout",
     "output_type": "stream",
     "text": [
      "10\n"
     ]
    }
   ],
   "source": [
    "double = lambda x: x * 2\n",
    "\n",
    "print(double(5))"
   ]
  },
  {
   "cell_type": "code",
   "execution_count": 72,
   "id": "d1426aa9",
   "metadata": {},
   "outputs": [],
   "source": [
    "add = lambda x,y:x+y\n",
    "\n",
    "\n",
    "def add1(x=1, y=1):\n",
    "    add = x+y\n",
    "    return add"
   ]
  },
  {
   "cell_type": "code",
   "execution_count": 73,
   "id": "9e0387b0",
   "metadata": {},
   "outputs": [
    {
     "data": {
      "text/plain": [
       "9"
      ]
     },
     "execution_count": 73,
     "metadata": {},
     "output_type": "execute_result"
    }
   ],
   "source": [
    "add(1,8)"
   ]
  },
  {
   "cell_type": "code",
   "execution_count": 74,
   "id": "1a98f88d",
   "metadata": {},
   "outputs": [
    {
     "data": {
      "text/plain": [
       "9"
      ]
     },
     "execution_count": 74,
     "metadata": {},
     "output_type": "execute_result"
    }
   ],
   "source": [
    "add1(1,8)"
   ]
  },
  {
   "cell_type": "code",
   "execution_count": 75,
   "id": "c30c5368",
   "metadata": {},
   "outputs": [],
   "source": [
    "# Python program to find HCF or GCD\n",
    "# Python program to find factors of a number\n",
    "# Python program to display sequence \n",
    "# Python program to retun multiple value"
   ]
  },
  {
   "cell_type": "markdown",
   "id": "87fca8ac",
   "metadata": {},
   "source": [
    "HCF: Highest common factor\n",
    "    or \n",
    "GCD: Greatest common divisor\n",
    "    \n",
    "largest positive number which divide two given number\n",
    "\n",
    "12= 1,2,3,4,6,12\n",
    "14= 1,2,7,14\n",
    "\n",
    "HCF or GCD=2\n"
   ]
  },
  {
   "cell_type": "code",
   "execution_count": 76,
   "id": "9443b277",
   "metadata": {},
   "outputs": [],
   "source": [
    "#Assumption: b will always greate than a\n",
    "def compute_gcd(a,b):\n",
    "    if a>b:\n",
    "        small=b\n",
    "    else:\n",
    "        small=a\n",
    "    for i in range(1,small+1):\n",
    "        if ((a % i==0) and (b%i==0)):\n",
    "            gcd=i\n",
    "    return gcd\n",
    "    "
   ]
  },
  {
   "cell_type": "code",
   "execution_count": 78,
   "id": "a5bd77ad",
   "metadata": {},
   "outputs": [
    {
     "data": {
      "text/plain": [
       "6"
      ]
     },
     "execution_count": 78,
     "metadata": {},
     "output_type": "execute_result"
    }
   ],
   "source": [
    "compute_gcd(18,24)"
   ]
  },
  {
   "cell_type": "code",
   "execution_count": null,
   "id": "f7fd7b05",
   "metadata": {},
   "outputs": [],
   "source": [
    "18= 1,2,3,6,9,18\n",
    "24= 1,2,3,4,6,8,12,24"
   ]
  },
  {
   "cell_type": "code",
   "execution_count": 87,
   "id": "4834c628",
   "metadata": {},
   "outputs": [],
   "source": [
    "def compute_fact(a):\n",
    "    for i in range(1,a+1):\n",
    "        if a % i==0:\n",
    "            print(i)\n",
    "    return "
   ]
  },
  {
   "cell_type": "code",
   "execution_count": 88,
   "id": "57581466",
   "metadata": {},
   "outputs": [
    {
     "name": "stdout",
     "output_type": "stream",
     "text": [
      "1\n",
      "2\n",
      "3\n",
      "6\n",
      "9\n",
      "18\n"
     ]
    }
   ],
   "source": [
    "compute_fact(18)"
   ]
  },
  {
   "cell_type": "code",
   "execution_count": 92,
   "id": "6cd3abd6",
   "metadata": {},
   "outputs": [],
   "source": [
    "def fibonacci(n):\n",
    "    if n < 0:\n",
    "        print(\"incorrect number\")\n",
    "    elif n==0:\n",
    "        return 0\n",
    "    elif n==1 or n==2:\n",
    "        return 1\n",
    "    else:\n",
    "        return fibonacci(n-1),fibonacci(n-2)"
   ]
  },
  {
   "cell_type": "code",
   "execution_count": 100,
   "id": "88c3bc47",
   "metadata": {},
   "outputs": [
    {
     "name": "stdout",
     "output_type": "stream",
     "text": [
      "enter number100\n",
      "0\n",
      "1\n",
      "1\n",
      "2\n",
      "3\n",
      "5\n",
      "8\n",
      "13\n",
      "21\n",
      "34\n",
      "55\n",
      "89\n",
      "144\n",
      "233\n",
      "377\n",
      "610\n",
      "987\n",
      "1597\n",
      "2584\n",
      "4181\n",
      "6765\n",
      "10946\n",
      "17711\n",
      "28657\n",
      "46368\n",
      "75025\n",
      "121393\n",
      "196418\n",
      "317811\n",
      "514229\n",
      "832040\n",
      "1346269\n",
      "2178309\n",
      "3524578\n",
      "5702887\n",
      "9227465\n",
      "14930352\n",
      "24157817\n",
      "39088169\n",
      "63245986\n",
      "102334155\n",
      "165580141\n",
      "267914296\n",
      "433494437\n",
      "701408733\n",
      "1134903170\n",
      "1836311903\n",
      "2971215073\n",
      "4807526976\n",
      "7778742049\n",
      "12586269025\n",
      "20365011074\n",
      "32951280099\n",
      "53316291173\n",
      "86267571272\n",
      "139583862445\n",
      "225851433717\n",
      "365435296162\n",
      "591286729879\n",
      "956722026041\n",
      "1548008755920\n",
      "2504730781961\n",
      "4052739537881\n",
      "6557470319842\n",
      "10610209857723\n",
      "17167680177565\n",
      "27777890035288\n",
      "44945570212853\n",
      "72723460248141\n",
      "117669030460994\n",
      "190392490709135\n",
      "308061521170129\n",
      "498454011879264\n",
      "806515533049393\n",
      "1304969544928657\n",
      "2111485077978050\n",
      "3416454622906707\n",
      "5527939700884757\n",
      "8944394323791464\n",
      "14472334024676221\n",
      "23416728348467685\n",
      "37889062373143906\n",
      "61305790721611591\n",
      "99194853094755497\n",
      "160500643816367088\n",
      "259695496911122585\n",
      "420196140727489673\n",
      "679891637638612258\n",
      "1100087778366101931\n",
      "1779979416004714189\n",
      "2880067194370816120\n",
      "4660046610375530309\n",
      "7540113804746346429\n",
      "12200160415121876738\n",
      "19740274219868223167\n",
      "31940434634990099905\n",
      "51680708854858323072\n",
      "83621143489848422977\n",
      "135301852344706746049\n",
      "218922995834555169026\n"
     ]
    }
   ],
   "source": [
    "num=int(input(\"enter number\"))\n",
    "n1=0\n",
    "n2=1\n",
    "count=0\n",
    "\n",
    "if num<=0:\n",
    "    print(\"none\") \n",
    "elif num==1:\n",
    "    print(n2)\n",
    "else:\n",
    "    while count<num:\n",
    "        print(n1)\n",
    "        n_val=n1+n2\n",
    "        n1=n2\n",
    "        n2=n_val\n",
    "        count+=1"
   ]
  },
  {
   "cell_type": "code",
   "execution_count": null,
   "id": "400fb909",
   "metadata": {},
   "outputs": [],
   "source": []
  }
 ],
 "metadata": {
  "kernelspec": {
   "display_name": "Python 3 (ipykernel)",
   "language": "python",
   "name": "python3"
  },
  "language_info": {
   "codemirror_mode": {
    "name": "ipython",
    "version": 3
   },
   "file_extension": ".py",
   "mimetype": "text/x-python",
   "name": "python",
   "nbconvert_exporter": "python",
   "pygments_lexer": "ipython3",
   "version": "3.9.7"
  }
 },
 "nbformat": 4,
 "nbformat_minor": 5
}
